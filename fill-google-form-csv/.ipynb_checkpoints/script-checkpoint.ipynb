{
 "cells": [
  {
   "cell_type": "code",
   "execution_count": 124,
   "id": "6aa8a7b6",
   "metadata": {},
   "outputs": [],
   "source": [
    "from selenium import webdriver\n",
    "from selenium.webdriver.chrome.options import Options\n",
    "from selenium.webdriver.chrome.service import Service\n",
    "from webdriver_manager.chrome import ChromeDriverManager"
   ]
  },
  {
   "cell_type": "code",
   "execution_count": 125,
   "id": "723aad1a",
   "metadata": {},
   "outputs": [],
   "source": [
    "import pandas as pd"
   ]
  },
  {
   "cell_type": "code",
   "execution_count": 126,
   "id": "f3b33537",
   "metadata": {
    "scrolled": true
   },
   "outputs": [],
   "source": [
    "df = pd.read_csv('data.csv', encoding = 'latin-1')"
   ]
  },
  {
   "cell_type": "code",
   "execution_count": 128,
   "id": "5e97665e",
   "metadata": {},
   "outputs": [],
   "source": [
    "import time\n",
    "\n",
    "#Abrir Chrome\n",
    "options = Options()\n",
    "options.add_argument(\"start-minimized\")\n",
    "driver = webdriver.Chrome(service=Service(ChromeDriverManager().install()), options=options)\n",
    "\n",
    "#Dictionaries\n",
    "#Gender\n",
    "gender_dict = {\n",
    "    'Male': '//*[@id=\"i17\"]/div[3]/div',\n",
    "    'Female': '//*[@id=\"i20\"]/div[3]/div'\n",
    "}\n",
    "#Jobs\n",
    "job_dict = {\n",
    "    'Mining': '//*[@id=\"mG61Hd\"]/div[2]/div/div[2]/div[6]/div/div/div[2]/div/div[2]/div[3]',\n",
    "    'Health': '//*[@id=\"mG61Hd\"]/div[2]/div/div[2]/div[6]/div/div/div[2]/div/div[2]/div[4]',\n",
    "    'Transportation': '//*[@id=\"mG61Hd\"]/div[2]/div/div[2]/div[6]/div/div/div[2]/div/div[2]/div[5]',\n",
    "    'Commerce': '//*[@id=\"mG61Hd\"]/div[2]/div/div[2]/div[6]/div/div/div[2]/div/div[2]/div[6]'\n",
    "}\n",
    "\n",
    "for row, datos in df.iterrows():\n",
    "    index = datos['ID']\n",
    "    first_name = datos['FirstName']\n",
    "    last_name = datos['LastName']\n",
    "    gender = datos['Gender']\n",
    "    email = datos['Email']\n",
    "    job = datos['Job']\n",
    "    \n",
    "    #Abrir formulario\n",
    "    driver.get('https://forms.gle/9n6pgiVxs8xbTLudA')\n",
    "    \n",
    "    #Delay\n",
    "    time.sleep(2)\n",
    "    \n",
    "    #Ingresar ID\n",
    "    driver.find_element('xpath', '//*[@id=\"mG61Hd\"]/div[2]/div/div[2]/div[1]/div/div/div[2]/div/div[1]/div/div[1]/input').send_keys(index)\n",
    "    \n",
    "    #Ingresar First Name\n",
    "    driver.find_element('xpath', '//*[@id=\"mG61Hd\"]/div[2]/div/div[2]/div[2]/div/div/div[2]/div/div[1]/div/div[1]/input').send_keys(first_name)\n",
    "    \n",
    "    #Ingresar Last Name\n",
    "    driver.find_element('xpath', '//*[@id=\"mG61Hd\"]/div[2]/div/div[2]/div[3]/div/div/div[2]/div/div[1]/div/div[1]/input').send_keys(last_name)\n",
    "    \n",
    "    #Seleccionar Gender\n",
    "    driver.find_element('xpath', gender_dict[gender]).click()\n",
    "    \n",
    "    #Ingresar Email\n",
    "    driver.find_element('xpath', '//*[@id=\"mG61Hd\"]/div[2]/div/div[2]/div[5]/div/div/div[2]/div/div[1]/div/div[1]/input').send_keys(email)\n",
    "    \n",
    "    #Seleccionar Job\n",
    "    #Abrir DropList\n",
    "    driver.find_element('xpath', '//*[@id=\"mG61Hd\"]/div[2]/div/div[2]/div[6]/div/div/div[2]/div').click()\n",
    "    \n",
    "    #Delay\n",
    "    time.sleep(2)\n",
    "    \n",
    "    driver.find_element('xpath', job_dict[job]).click()\n",
    "    \n",
    "    #Delay\n",
    "    time.sleep(1)\n",
    "    \n",
    "    #Enviar Formulario\n",
    "    driver.find_element('xpath', '//*[@id=\"mG61Hd\"]/div[2]/div/div[3]/div[1]/div[1]/div').click()\n",
    "    \n",
    "driver.close()"
   ]
  }
 ],
 "metadata": {
  "kernelspec": {
   "display_name": "Python 3 (ipykernel)",
   "language": "python",
   "name": "python3"
  },
  "language_info": {
   "codemirror_mode": {
    "name": "ipython",
    "version": 3
   },
   "file_extension": ".py",
   "mimetype": "text/x-python",
   "name": "python",
   "nbconvert_exporter": "python",
   "pygments_lexer": "ipython3",
   "version": "3.9.12"
  }
 },
 "nbformat": 4,
 "nbformat_minor": 5
}
